{
  "nbformat": 4,
  "nbformat_minor": 0,
  "metadata": {
    "colab": {
      "provenance": [],
      "include_colab_link": true
    },
    "kernelspec": {
      "name": "python3",
      "display_name": "Python 3"
    },
    "language_info": {
      "name": "python"
    }
  },
  "cells": [
    {
      "cell_type": "markdown",
      "metadata": {
        "id": "view-in-github",
        "colab_type": "text"
      },
      "source": [
        "<a href=\"https://colab.research.google.com/github/batbakamaxno/testmaxno/blob/master/%D0%B3%D0%B8%D0%B3%D0%B0%D1%87%D0%B0%D1%82_%D1%81%D0%BA%D1%80%D0%B8%D0%BD%D0%BA%D0%B0%D1%81%D1%82_ipynb%22.ipynb\" target=\"_parent\"><img src=\"https://colab.research.google.com/assets/colab-badge.svg\" alt=\"Open In Colab\"/></a>"
      ]
    },
    {
      "cell_type": "markdown",
      "source": [
        "# Работа с API через библиотеку requests\n",
        "Для начала работы нужно [получить доступ](https://developers.sber.ru/docs/ru/gigachat/api/integration).\n",
        "## Авторизация\n",
        "Объявим ключи для авторизации"
      ],
      "metadata": {
        "id": "UhxINke4kCa8"
      }
    },
    {
      "cell_type": "code",
      "execution_count": 8,
      "metadata": {
        "id": "kIiH4X-WjHTc"
      },
      "outputs": [],
      "source": [
        "# Используем вкладку \"Секреты\" левой панели Colab для хранения ключей\n",
        "from google.colab import userdata\n",
        "client_id = userdata.get('SBER_ID')\n",
        "secret = userdata.get('SBER_SECRET')\n",
        "auth = userdata.get('SBER_AUTH')"
      ]
    },
    {
      "cell_type": "markdown",
      "source": [
        "Для авторизации можно использовать либо пару client_id и secret, но это требует некоторых действий"
      ],
      "metadata": {
        "id": "lNQBBJEilk8Y"
      }
    },
    {
      "cell_type": "code",
      "source": [
        "import base64\n",
        "credentials = f\"{client_id}:{secret}\"\n",
        "encoded_credentials = base64.b64encode(credentials.encode('utf-8')).decode('utf-8')"
      ],
      "metadata": {
        "id": "QHyvxn3sla3f"
      },
      "execution_count": null,
      "outputs": []
    },
    {
      "cell_type": "markdown",
      "source": [
        "И получаемая в итоге строка идентична нашему ключу auth"
      ],
      "metadata": {
        "id": "Malam8sKntMW"
      }
    },
    {
      "cell_type": "code",
      "source": [
        "encoded_credentials == auth"
      ],
      "metadata": {
        "colab": {
          "base_uri": "https://localhost:8080/"
        },
        "id": "76wp7e7SnsWZ",
        "outputId": "028aa666-d3a5-4569-82b3-a9e7d9430fc0"
      },
      "execution_count": null,
      "outputs": [
        {
          "output_type": "execute_result",
          "data": {
            "text/plain": [
              "True"
            ]
          },
          "metadata": {},
          "execution_count": 3
        }
      ]
    },
    {
      "cell_type": "markdown",
      "source": [
        "Поэтому используем для авторизации auth.\n",
        "\n",
        "[Документация по авторизации](https://developers.sber.ru/docs/ru/gigachat/api/reference/rest/post-token)"
      ],
      "metadata": {
        "id": "0su5Ut3toDwk"
      }
    },
    {
      "cell_type": "code",
      "source": [
        "import requests\n",
        "import uuid\n",
        "\n",
        "def get_token(auth_token, scope='GIGACHAT_API_PERS'):\n",
        "    \"\"\"\n",
        "      Выполняет POST-запрос к эндпоинту, который выдает токен.\n",
        "\n",
        "      Параметры:\n",
        "      - auth_token (str): токен авторизации, необходимый для запроса.\n",
        "      - область (str): область действия запроса API. По умолчанию — «GIGACHAT_API_PERS».\n",
        "\n",
        "      Возвращает:\n",
        "      - ответ API, где токен и срок его \"годности\".\n",
        "      \"\"\"\n",
        "    # Создадим идентификатор UUID (36 знаков)\n",
        "    rq_uid = str(uuid.uuid4())\n",
        "\n",
        "    # API URL\n",
        "    url = \"https://ngw.devices.sberbank.ru:9443/api/v2/oauth\"\n",
        "\n",
        "    # Заголовки\n",
        "    headers = {\n",
        "        'Content-Type': 'application/x-www-form-urlencoded',\n",
        "        'Accept': 'application/json',\n",
        "        'RqUID': rq_uid,\n",
        "        'Authorization': f'Basic {auth_token}'\n",
        "    }\n",
        "\n",
        "    # Тело запроса\n",
        "    payload = {\n",
        "        'scope': scope\n",
        "    }\n",
        "\n",
        "    try:\n",
        "        # Делаем POST запрос с отключенной SSL верификацией\n",
        "        # (можно скачать сертификаты Минцифры, тогда отключать проверку не надо)\n",
        "        response = requests.post(url, headers=headers, data=payload, verify=False)\n",
        "        return response\n",
        "    except requests.RequestException as e:\n",
        "        print(f\"Ошибка: {str(e)}\")\n",
        "        return -1\n"
      ],
      "metadata": {
        "id": "twVbmbjFoKBY"
      },
      "execution_count": 9,
      "outputs": []
    },
    {
      "cell_type": "code",
      "source": [
        "response = get_token(auth)\n",
        "if response != 1:\n",
        "  print(response.text)\n",
        "  giga_token = response.json()['access_token']"
      ],
      "metadata": {
        "id": "vp8ocSoUsnL5",
        "colab": {
          "base_uri": "https://localhost:8080/"
        },
        "outputId": "22549b1c-6440-46ab-c14b-5628c5977bb8"
      },
      "execution_count": 10,
      "outputs": [
        {
          "output_type": "stream",
          "name": "stderr",
          "text": [
            "/usr/local/lib/python3.11/dist-packages/urllib3/connectionpool.py:1097: InsecureRequestWarning: Unverified HTTPS request is being made to host 'ngw.devices.sberbank.ru'. Adding certificate verification is strongly advised. See: https://urllib3.readthedocs.io/en/latest/advanced-usage.html#tls-warnings\n",
            "  warnings.warn(\n"
          ]
        },
        {
          "output_type": "stream",
          "name": "stdout",
          "text": [
            "{\"access_token\":\"eyJjdHkiOiJqd3QiLCJlbmMiOiJBMjU2Q0JDLUhTNTEyIiwiYWxnIjoiUlNBLU9BRVAtMjU2In0.Bl6i_uvlQq9hxChfHKnHCDpoMWNLXcRnES84zB7hRzRnAL6HFkZPnH5HPRY-iHieNuodzZVJ8rqy01QJadZnriqpFf5YIBJ4p7Ww7Efq3w8OGTn6M9LXYODZWZb3DOOw1CE_2Llugf7YZWIJddNw8g4M_M5OZ6OMN2ZJplYaeC_-5d2SUTJlORRGOolUGc5WY7jqiceGwxaBMbG9rd65uNX-UdLc1qdtfnNLt1PrOUIRg50DRMWIxDhW4IiwKS1NqMyipDc8xtCiKgrA6Rntgf0-52pcC1MhlZHaPHkS9Cn9FxQDX29LD47GziD6KXQ7niG-yGqDRNqi8qz6INA1aQ.az_zql8Wt9YJxohHfYkoFw.kOYXppsiBMRxJfYPsSO_NptCou8gvwc_d-ahXdKYgDE6xhJ-qNaK-oh0I_tb0oBk_JlN__9vtn0Q4VTrJ-bNS5PnBKBwx3wANMqfML5Uru-akw-o-CPFFkbJg0M09cd39A0vWHzC6Qdg74W4h4Dli6Ngl1ltpssdSS51Osqdu1keW5yD-00vTeii6SpT5LR2_QO-uZ7Ro9WHAFyFYDQ6iMGO6XYztvI3rkJWuMFTspSVpbvjmT9CbReGFvWJCHONTMWzndYDa2vrsyG8rc8qtfgmEj25aSXsHZvmCCkenFtbBluPEB1ndeePFm3mK5CHdYueAykDaDQCAgQYljCUrHe1xZ05n6BREvCzoxp2BkjE4bWJC4LP_FspPZWvWftRb3j5w6FodJ4I5BhgbuLYLJK_GQ7OmPKRrwjQABiF0HsIKgLO_d-bksgU4MKK8Iu-XuJuwSI4vaZSRN95gtYFLNzSoy47mpMgeTKV8KZKyowuJbcqqxxkfR1zHZR3DdDnEOnnO0poA2tUf792beoO_clrytpl4GmG4uzfzm71EZaBF1WYL7NN-cBUIxez4mDhw55-5kIgU4dcHXNQQ7OuP_fyulta2tgSx8ETKcY-iEvEUlpdbj80oyPtGkrYyEE_nTHDLgG8rfLT_VTIRdHrTZnY-uX5X77NqqZUBR8QnxIcoYmlv2XFbW-pqzZM36smbOyyRyiNTXrwQXsXNwSSvcuEuGrhuDy2t702-0_aH2E.RaVh06nD8h1Yf5v0KZ_01u2oqbmTlrEXin815KK9Efg\",\"expires_at\":1739720771732}\n"
          ]
        }
      ]
    },
    {
      "cell_type": "markdown",
      "source": [
        "## Получение перечня моделей\n",
        "[Документация](https://developers.sber.ru/docs/ru/gigachat/api/reference/rest/get-models)"
      ],
      "metadata": {
        "id": "5XRkDeSKlT-k"
      }
    },
    {
      "cell_type": "code",
      "source": [
        "import requests\n",
        "\n",
        "url = \"https://gigachat.devices.sberbank.ru/api/v1/models\"\n",
        "\n",
        "payload={}\n",
        "headers = {\n",
        "  'Accept': 'application/json',\n",
        "  'Authorization': f'Bearer {giga_token}'\n",
        "}\n",
        "\n",
        "response = requests.request(\"GET\", url, headers=headers, data=payload, verify=False)\n",
        "\n",
        "print(response.text)"
      ],
      "metadata": {
        "id": "dYNDZdYcPkzA",
        "colab": {
          "base_uri": "https://localhost:8080/"
        },
        "outputId": "4f7c09d2-c975-40af-ef2f-76d3db3e78c7"
      },
      "execution_count": 11,
      "outputs": [
        {
          "output_type": "stream",
          "name": "stderr",
          "text": [
            "/usr/local/lib/python3.11/dist-packages/urllib3/connectionpool.py:1097: InsecureRequestWarning: Unverified HTTPS request is being made to host 'gigachat.devices.sberbank.ru'. Adding certificate verification is strongly advised. See: https://urllib3.readthedocs.io/en/latest/advanced-usage.html#tls-warnings\n",
            "  warnings.warn(\n"
          ]
        },
        {
          "output_type": "stream",
          "name": "stdout",
          "text": [
            "{\"object\":\"list\",\"data\":[{\"id\":\"GigaChat\",\"object\":\"model\",\"owned_by\":\"salutedevices\",\"type\":\"chat\"},{\"id\":\"GigaChat-Max\",\"object\":\"model\",\"owned_by\":\"salutedevices\",\"type\":\"chat\"},{\"id\":\"GigaChat-Plus\",\"object\":\"model\",\"owned_by\":\"salutedevices\",\"type\":\"chat\"},{\"id\":\"GigaChat-Pro\",\"object\":\"model\",\"owned_by\":\"salutedevices\",\"type\":\"chat\"}]}\n"
          ]
        }
      ]
    },
    {
      "cell_type": "markdown",
      "source": [
        "## Сделаем запросы на генерацию текста\n",
        "Начнем с отправки отдельных сообщений"
      ],
      "metadata": {
        "id": "ZWkoaz0gxoDZ"
      }
    },
    {
      "cell_type": "code",
      "source": [
        "import requests\n",
        "import json\n",
        "\n",
        "def get_chat_completion(auth_token, user_message):\n",
        "    \"\"\"\n",
        "    Отправляет POST-запрос к API чата для получения ответа от модели GigaChat.\n",
        "\n",
        "    Параметры:\n",
        "    - auth_token (str): Токен для авторизации в API.\n",
        "    - user_message (str): Сообщение от пользователя, для которого нужно получить ответ.\n",
        "\n",
        "    Возвращает:\n",
        "    - str: Ответ от API в виде текстовой строки.\n",
        "    \"\"\"\n",
        "    # URL API, к которому мы обращаемся\n",
        "    url = \"https://gigachat.devices.sberbank.ru/api/v1/chat/completions\"\n",
        "\n",
        "    # Подготовка данных запроса в формате JSON\n",
        "    payload = json.dumps({\n",
        "        \"model\": \"GigaChat\",  # Используемая модель\n",
        "        \"messages\": [\n",
        "            {\n",
        "                \"role\": \"user\",  # Роль отправителя (пользователь)\n",
        "                \"content\": user_message  # Содержание сообщения\n",
        "            }\n",
        "        ],\n",
        "        \"temperature\": 1,  # Температура генерации\n",
        "        \"top_p\": 0.1,  # Параметр top_p для контроля разнообразия ответов\n",
        "        \"n\": 1,  # Количество возвращаемых ответов\n",
        "        \"stream\": False,  # Потоковая ли передача ответов\n",
        "        \"max_tokens\": 512,  # Максимальное количество токенов в ответе\n",
        "        \"repetition_penalty\": 1,  # Штраф за повторения\n",
        "        \"update_interval\": 0  # Интервал обновления (для потоковой передачи)\n",
        "    })\n",
        "\n",
        "    # Заголовки запроса\n",
        "    headers = {\n",
        "        'Content-Type': 'application/json',  # Тип содержимого - JSON\n",
        "        'Accept': 'application/json',  # Принимаем ответ в формате JSON\n",
        "        'Authorization': f'Bearer {auth_token}'  # Токен авторизации\n",
        "    }\n",
        "\n",
        "    # Выполнение POST-запроса и возвращение ответа\n",
        "    try:\n",
        "        response = requests.request(\"POST\", url, headers=headers, data=payload, verify=False)\n",
        "        return response\n",
        "    except requests.RequestException as e:\n",
        "        # Обработка исключения в случае ошибки запроса\n",
        "        print(f\"Произошла ошибка: {str(e)}\")\n",
        "        return -1\n",
        "\n"
      ],
      "metadata": {
        "id": "IW07KDmPtBY5"
      },
      "execution_count": 14,
      "outputs": []
    },
    {
      "cell_type": "code",
      "source": [
        "answer = get_chat_completion(giga_token, 'Как на Java сделать GET запрос?')"
      ],
      "metadata": {
        "id": "tk8wXlYpym4Q",
        "colab": {
          "base_uri": "https://localhost:8080/"
        },
        "outputId": "b11ac8b7-736d-4895-a8d9-0d118f1e33ca"
      },
      "execution_count": 22,
      "outputs": [
        {
          "output_type": "stream",
          "name": "stderr",
          "text": [
            "/usr/local/lib/python3.11/dist-packages/urllib3/connectionpool.py:1097: InsecureRequestWarning: Unverified HTTPS request is being made to host 'gigachat.devices.sberbank.ru'. Adding certificate verification is strongly advised. See: https://urllib3.readthedocs.io/en/latest/advanced-usage.html#tls-warnings\n",
            "  warnings.warn(\n"
          ]
        }
      ]
    },
    {
      "cell_type": "code",
      "source": [
        "answer.json()"
      ],
      "metadata": {
        "id": "meb0EHrc22kH",
        "colab": {
          "base_uri": "https://localhost:8080/"
        },
        "outputId": "e980bea2-3c7b-4b51-e734-4c0436d5aec5"
      },
      "execution_count": 21,
      "outputs": [
        {
          "output_type": "execute_result",
          "data": {
            "text/plain": [
              "{'choices': [{'message': {'content': 'Чтобы сделать GET запрос на Java, можно использовать библиотеку `java.net.HttpURLConnection` или библиотеку `org.apache.http`. Я покажу пример с использованием `HttpURLConnection`, так как это стандартный способ для Java.\\n\\n### Пример с использованием `HttpURLConnection`:\\n\\n```java\\nimport java.io.BufferedReader;\\nimport java.io.InputStreamReader;\\nimport java.net.HttpURLConnection;\\nimport java.net.URL;\\n\\npublic class HttpGetExample {\\n    public static void main(String[] args) throws Exception {\\n        // Создаем URL для запроса\\n        URL url = new URL(\"https://example.com/api/endpoint\");\\n\\n        // Открываем соединение\\n        HttpURLConnection connection = (HttpURLConnection) url.openConnection();\\n        connection.setRequestMethod(\"GET\");\\n\\n        // Получаем ответ\\n        BufferedReader reader = new BufferedReader(new InputStreamReader(connection.getInputStream()));\\n        String response;\\n        while ((response = reader.readLine()) != null) {\\n            System.out.println(response);\\n        }\\n\\n        // Закрываем соединение\\n        reader.close();\\n        connection.disconnect();\\n    }\\n}\\n```\\n\\n### Пояснение:\\n1. **URL**: Создаем объект `URL`, который представляет собой URL-адрес, на который мы отправляем запрос.\\n2. **HttpURLConnection**: Используем `HttpURLConnection` для установления соединения с сервером.\\n3. **setRequestMethod**: Устанавливаем метод запроса (`GET` в данном случае).\\n4. **getInputStream**: Получаем поток ввода, который содержит ответ от сервера.\\n5. **InputStreamReader и BufferedReader**: Используем их для чтения ответа.\\n6. **disconnect**: Закрываем соединение после получения ответа.\\n\\n### Альтернатива с использованием `Apache HttpClient`:\\n\\nЕсли вам нужно более современное решение, можно использовать библиотеку `org.apache.http`, которая предоставляет более удобный API для работы с HTTP.\\n\\n```java\\nimport org.apache.http.HttpResponse;\\nimport org.apache.http.client.HttpClient;\\nimport org.apache.http.client.methods.',\n",
              "    'role': 'assistant'},\n",
              "   'index': 0,\n",
              "   'finish_reason': 'length'}],\n",
              " 'created': 1739719886,\n",
              " 'model': 'GigaChat:1.0.26.20',\n",
              " 'object': 'chat.completion',\n",
              " 'usage': {'prompt_tokens': 18,\n",
              "  'completion_tokens': 512,\n",
              "  'total_tokens': 530,\n",
              "  'precached_prompt_tokens': 0}}"
            ]
          },
          "metadata": {},
          "execution_count": 21
        }
      ]
    },
    {
      "cell_type": "code",
      "source": [
        "print(answer.json()['choices'][0]['message']['content'])"
      ],
      "metadata": {
        "id": "go-gSwti3ItM"
      },
      "execution_count": null,
      "outputs": []
    },
    {
      "cell_type": "code",
      "source": [
        "from IPython.display import display, Markdown\n",
        "display(Markdown(answer.json()['choices'][0]['message']['content']))"
      ],
      "metadata": {
        "id": "tFVwwNeH3ilE",
        "colab": {
          "base_uri": "https://localhost:8080/",
          "height": 720
        },
        "outputId": "ed7f07ba-5247-4544-9106-056ce8072bed"
      },
      "execution_count": 23,
      "outputs": [
        {
          "output_type": "display_data",
          "data": {
            "text/plain": [
              "<IPython.core.display.Markdown object>"
            ],
            "text/markdown": "На Java для выполнения HTTP GET запросов можно использовать различные библиотеки, такие как `HttpClient`, `JDK` или сторонние библиотеки, например, `OkHttp`. Я покажу пример на основе `HttpClient`, который входит в стандартную библиотеку Java.\n\n### Пример кода:\n\n```java\nimport java.net.URI;\nimport java.net.http.HttpClient;\nimport java.net.http.HttpRequest;\nimport java.net.http.HttpResponse;\nimport java.util.concurrent.CompletionStage;\n\npublic class HttpGetExample {\n    public static void main(String[] args) {\n        HttpClient client = HttpClient.newHttpClient();\n        HttpRequest request = HttpRequest.newBuilder()\n                .uri(URI.create(\"https://example.com\")) // Замените на нужный URL\n                .build();\n\n        CompletionStage<HttpResponse<String>> response = client.send(request, HttpResponse.BodyHandlers.ofString());\n\n        response.thenAccept(response -> {\n            System.out.println(response.body()); // Вывод ответа на консоль\n        });\n    }\n}\n```\n\n### Пояснение:\n\n1. **HttpClient**: Это класс из стандартной библиотеки Java, который позволяет отправлять HTTP-запросы и получать ответы.\n\n2. **HttpRequest.newBuilder()**: Создает объект запроса, который содержит URL и другие параметры запроса.\n\n3. **.uri(URI.create(\"https://example.com\"))**: Указывает URL, к которому будет отправлен запрос.\n\n4. **.build()**: Превращает объект запроса в полноценный запрос.\n\n5. **client.send(request, HttpResponse.BodyHandlers.ofString())**: Отправляет запрос и получает ответ в виде строки.\n\n6. **response.thenAccept(response -> {...})**: Обрабатывает ответ, выводя его на консоль.\n\n### Альтернативные библиотеки:\n\nЕсли вам нужно что-то более мощное или удобное, можно использовать сторонние библиотеки, такие как:\n\n- **OkHttp**: Очень популярная библиотека для HTTP-запро"
          },
          "metadata": {}
        }
      ]
    },
    {
      "cell_type": "markdown",
      "source": [
        "## Создадим диалог"
      ],
      "metadata": {
        "id": "Za2yDvE3G2qz"
      }
    },
    {
      "cell_type": "code",
      "source": [
        "import requests\n",
        "import json\n",
        "\n",
        "def get_chat_completion(auth_token, user_message, conversation_history=None):\n",
        "    \"\"\"\n",
        "    Отправляет POST-запрос к API чата для получения ответа от модели GigaChat в рамках диалога.\n",
        "\n",
        "    Параметры:\n",
        "    - auth_token (str): Токен для авторизации в API.\n",
        "    - user_message (str): Сообщение от пользователя, для которого нужно получить ответ.\n",
        "    - conversation_history (list): История диалога в виде списка сообщений (опционально).\n",
        "\n",
        "    Возвращает:\n",
        "    - response (requests.Response): Ответ от API.\n",
        "    - conversation_history (list): Обновленная история диалога.\n",
        "    \"\"\"\n",
        "    # URL API, к которому мы обращаемся\n",
        "    url = \"https://gigachat.devices.sberbank.ru/api/v1/chat/completions\"\n",
        "\n",
        "    # Если история диалога не предоставлена, инициализируем пустым списком\n",
        "    if conversation_history is None:\n",
        "        conversation_history = []\n",
        "\n",
        "    # Добавляем сообщение пользователя в историю диалога\n",
        "    conversation_history.append({\n",
        "        \"role\": \"user\",\n",
        "        \"content\": user_message\n",
        "    })\n",
        "\n",
        "    # Подготовка данных запроса в формате JSON\n",
        "    payload = json.dumps({\n",
        "        \"model\": \"GigaChat:latest\",\n",
        "        \"messages\": conversation_history,\n",
        "        \"temperature\": 1,\n",
        "        \"top_p\": 0.1,\n",
        "        \"n\": 1,\n",
        "        \"stream\": False,\n",
        "        \"max_tokens\": 512,\n",
        "        \"repetition_penalty\": 1,\n",
        "        \"update_interval\": 0\n",
        "    })\n",
        "\n",
        "    # Заголовки запроса\n",
        "    headers = {\n",
        "        'Content-Type': 'application/json',\n",
        "        'Accept': 'application/json',\n",
        "        'Authorization': f'Bearer {auth_token}'\n",
        "    }\n",
        "\n",
        "    # Выполнение POST-запроса и возвращение ответа\n",
        "    try:\n",
        "        response = requests.post(url, headers=headers, data=payload, verify=False)\n",
        "        response_data = response.json()\n",
        "        print(response_data)\n",
        "\n",
        "        # Добавляем ответ модели в историю диалога\n",
        "        conversation_history.append({\n",
        "            \"role\": \"assistant\",\n",
        "            \"content\": response_data['choices'][0]['message']['content']\n",
        "        })\n",
        "\n",
        "        return response, conversation_history\n",
        "    except requests.RequestException as e:\n",
        "        # Обработка исключения в случае ошибки запроса\n",
        "        print(f\"Произошла ошибка: {str(e)}\")\n",
        "        return None, conversation_history\n",
        "\n"
      ],
      "metadata": {
        "id": "wizk0o-CEf9m"
      },
      "execution_count": 25,
      "outputs": []
    },
    {
      "cell_type": "code",
      "source": [
        "# Пример использования функции для диалога\n",
        "\n",
        "conversation_history = []\n",
        "\n",
        "# Пользователь отправляет первое сообщение\n",
        "response, conversation_history = get_chat_completion(giga_token, \"Привет, как дела?\", conversation_history)\n",
        "\n",
        "# Пользователь отправляет следующее сообщение, продолжая диалог\n",
        "response, conversation_history = get_chat_completion(giga_token, \"Что ты умеешь делать?\", conversation_history)\n"
      ],
      "metadata": {
        "id": "sZQpjXYBs6E9",
        "colab": {
          "base_uri": "https://localhost:8080/"
        },
        "outputId": "07b268f9-a8de-41e2-998f-7aca1fef9113"
      },
      "execution_count": 26,
      "outputs": [
        {
          "output_type": "stream",
          "name": "stderr",
          "text": [
            "/usr/local/lib/python3.11/dist-packages/urllib3/connectionpool.py:1097: InsecureRequestWarning: Unverified HTTPS request is being made to host 'gigachat.devices.sberbank.ru'. Adding certificate verification is strongly advised. See: https://urllib3.readthedocs.io/en/latest/advanced-usage.html#tls-warnings\n",
            "  warnings.warn(\n"
          ]
        },
        {
          "output_type": "stream",
          "name": "stdout",
          "text": [
            "{'choices': [{'message': {'content': 'Привет! У меня всё отлично, готов помочь тебе с любыми вопросами. Как у тебя дела?', 'role': 'assistant'}, 'index': 0, 'finish_reason': 'stop'}], 'created': 1739720597, 'model': 'GigaChat:1.0.26.20', 'object': 'chat.completion', 'usage': {'prompt_tokens': 17, 'completion_tokens': 23, 'total_tokens': 40, 'precached_prompt_tokens': 0}}\n"
          ]
        },
        {
          "output_type": "stream",
          "name": "stderr",
          "text": [
            "/usr/local/lib/python3.11/dist-packages/urllib3/connectionpool.py:1097: InsecureRequestWarning: Unverified HTTPS request is being made to host 'gigachat.devices.sberbank.ru'. Adding certificate verification is strongly advised. See: https://urllib3.readthedocs.io/en/latest/advanced-usage.html#tls-warnings\n",
            "  warnings.warn(\n"
          ]
        },
        {
          "output_type": "stream",
          "name": "stdout",
          "text": [
            "{'choices': [{'message': {'content': 'Я могу помочь с множеством задач! Вот несколько примеров того, чем я могу быть полезен:\\n\\n1. **Ответы на вопросы**: я могу предоставить информацию по различным темам, будь то наука, история, культура или что-то другое.\\n\\n2. **Анализ текста**: могу помочь с анализом текста, его редактированием, написанием эссе или статей.\\n\\n3. **Математика и логика**: могу решать математические задачи, объяснять сложные концепции и помогать с логическими задачами.\\n\\n4. **Программирование**: могу помочь с написанием и отладкой кода, объяснением алгоритмов и технологий.\\n\\n5. **Генерация контента**: могу придумывать идеи, помогать с написанием текстов, стихов, рассказов и даже сценариев.\\n\\n6. **Обучение**: могу объяснять сложные темы простым языком, помогать с изучением языков, математики, программирования и других предметов.\\n\\n7. **Разговоры**: могу просто поболтать на любые темы, будь то философия, наука, искусство или что-то другое.\\n\\nЕсли у тебя есть конкретная задача или вопрос, не стесняйся задать его!', 'role': 'assistant'}, 'index': 0, 'finish_reason': 'stop'}], 'created': 1739720599, 'model': 'GigaChat:1.0.26.20', 'object': 'chat.completion', 'usage': {'prompt_tokens': 57, 'completion_tokens': 279, 'total_tokens': 336, 'precached_prompt_tokens': 0}}\n"
          ]
        }
      ]
    },
    {
      "cell_type": "code",
      "source": [
        "conversation_history"
      ],
      "metadata": {
        "id": "YG6Rz4peKMJn",
        "colab": {
          "base_uri": "https://localhost:8080/"
        },
        "outputId": "6cf4d617-04e4-489b-fd7a-c4841909d51b"
      },
      "execution_count": 27,
      "outputs": [
        {
          "output_type": "execute_result",
          "data": {
            "text/plain": [
              "[{'role': 'user', 'content': 'Привет, как дела?'},\n",
              " {'role': 'assistant',\n",
              "  'content': 'Привет! У меня всё отлично, готов помочь тебе с любыми вопросами. Как у тебя дела?'},\n",
              " {'role': 'user', 'content': 'Что ты умеешь делать?'},\n",
              " {'role': 'assistant',\n",
              "  'content': 'Я могу помочь с множеством задач! Вот несколько примеров того, чем я могу быть полезен:\\n\\n1. **Ответы на вопросы**: я могу предоставить информацию по различным темам, будь то наука, история, культура или что-то другое.\\n\\n2. **Анализ текста**: могу помочь с анализом текста, его редактированием, написанием эссе или статей.\\n\\n3. **Математика и логика**: могу решать математические задачи, объяснять сложные концепции и помогать с логическими задачами.\\n\\n4. **Программирование**: могу помочь с написанием и отладкой кода, объяснением алгоритмов и технологий.\\n\\n5. **Генерация контента**: могу придумывать идеи, помогать с написанием текстов, стихов, рассказов и даже сценариев.\\n\\n6. **Обучение**: могу объяснять сложные темы простым языком, помогать с изучением языков, математики, программирования и других предметов.\\n\\n7. **Разговоры**: могу просто поболтать на любые темы, будь то философия, наука, искусство или что-то другое.\\n\\nЕсли у тебя есть конкретная задача или вопрос, не стесняйся задать его!'}]"
            ]
          },
          "metadata": {},
          "execution_count": 27
        }
      ]
    },
    {
      "cell_type": "markdown",
      "source": [
        "## Добавим системный промпт\n",
        "Системный промпт определяет роль, задавать контект и особенности общения бота с пользователем."
      ],
      "metadata": {
        "id": "8A5ZMbPYVh2w"
      }
    },
    {
      "cell_type": "code",
      "source": [
        "conversation_history = [{\n",
        "    'role': 'system',\n",
        "    'content': 'Отвечай как мастер джедай. Пусть тебя зовут Йода.'\n",
        "\n",
        "}\n",
        "\n",
        "]"
      ],
      "metadata": {
        "id": "6INL_XYbVhHI"
      },
      "execution_count": 28,
      "outputs": []
    },
    {
      "cell_type": "code",
      "source": [
        "response, conversation_history = get_chat_completion(giga_token, 'Привет, друг!', conversation_history)"
      ],
      "metadata": {
        "id": "IuXqi4FbXvUz",
        "colab": {
          "base_uri": "https://localhost:8080/"
        },
        "outputId": "fdf60e51-4ca5-4628-8a42-567eb2206aa4"
      },
      "execution_count": 29,
      "outputs": [
        {
          "output_type": "stream",
          "name": "stderr",
          "text": [
            "/usr/local/lib/python3.11/dist-packages/urllib3/connectionpool.py:1097: InsecureRequestWarning: Unverified HTTPS request is being made to host 'gigachat.devices.sberbank.ru'. Adding certificate verification is strongly advised. See: https://urllib3.readthedocs.io/en/latest/advanced-usage.html#tls-warnings\n",
            "  warnings.warn(\n"
          ]
        },
        {
          "output_type": "stream",
          "name": "stdout",
          "text": [
            "{'choices': [{'message': {'content': 'Приветствую тебя, мой друг. Как могу я помочь тебе сегодня?', 'role': 'assistant'}, 'index': 0, 'finish_reason': 'stop'}], 'created': 1739720624, 'model': 'GigaChat:1.0.26.20', 'object': 'chat.completion', 'usage': {'prompt_tokens': 36, 'completion_tokens': 17, 'total_tokens': 53, 'precached_prompt_tokens': 0}}\n"
          ]
        }
      ]
    },
    {
      "cell_type": "code",
      "source": [
        "response.json()['choices'][0]['message']['content']"
      ],
      "metadata": {
        "id": "jYnW5lZJtRRE",
        "colab": {
          "base_uri": "https://localhost:8080/",
          "height": 35
        },
        "outputId": "9d528fd8-37ff-429e-85d5-9dd3369be903"
      },
      "execution_count": 30,
      "outputs": [
        {
          "output_type": "execute_result",
          "data": {
            "text/plain": [
              "'Приветствую тебя, мой друг. Как могу я помочь тебе сегодня?'"
            ],
            "application/vnd.google.colaboratory.intrinsic+json": {
              "type": "string"
            }
          },
          "metadata": {},
          "execution_count": 30
        }
      ]
    },
    {
      "cell_type": "markdown",
      "source": [
        "## Генерация картинок Кандинским\n",
        "[Документация](https://developers.sber.ru/docs/ru/gigachat/api/reference/rest/get-file-id)\n",
        "\n",
        "Делаем запрос на генерацию прямо в GigaChat"
      ],
      "metadata": {
        "id": "4pjQtWaOL_CF"
      }
    },
    {
      "cell_type": "code",
      "source": [
        "import requests\n",
        "import json\n",
        "\n",
        "def send_chat_request(giga_token, user_message):\n",
        "    \"\"\"\n",
        "    Отправляет POST-запрос к API GigaChat для получения ответа от модели чата.\n",
        "\n",
        "    Параметры:\n",
        "    - giga_token (str): Токен авторизации для доступа к API GigaChat.\n",
        "    - user_message (str): Сообщение пользователя, которое будет обработано моделью GigaChat.\n",
        "\n",
        "    Возвращает:\n",
        "    - str: Строка сгенерированного ответа GigaChat с тэгом img\n",
        "    \"\"\"\n",
        "    # URL API для отправки запросов к GigaChat\n",
        "    url = \"https://gigachat.devices.sberbank.ru/api/v1/chat/completions\"\n",
        "\n",
        "    # Заголовки для HTTP-запроса\n",
        "    headers = {\n",
        "        'Content-Type': 'application/json',  # Указываем, что отправляемые данные в формате JSON\n",
        "        'Authorization': f'Bearer {giga_token}',  # Используем токен авторизации для доступа к API\n",
        "    }\n",
        "\n",
        "    # Данные для отправки в теле запроса\n",
        "    payload = {\n",
        "        \"model\": \"GigaChat:latest\",  # Указываем, что хотим использовать последнюю версию модели GigaChat\n",
        "        \"messages\": [\n",
        "            {\n",
        "                \"role\": \"user\",  # Роль отправителя - пользователь\n",
        "                \"content\": user_message  # Сообщение от пользователя\n",
        "            },\n",
        "        ],\n",
        "        \"temperature\": 0.7  # Устанавливаем температуру, чтобы управлять случайностью ответов\n",
        "    }\n",
        "\n",
        "    try:\n",
        "        # Отправляем POST-запрос к API и получаем ответ\n",
        "        response = requests.post(url, headers=headers, data=json.dumps(payload), verify=False)\n",
        "        # Выводим текст ответа. В реальных условиях следует обрабатывать ответ и проверять статус коды.\n",
        "        print(response.json())\n",
        "        return response.json()[\"choices\"][0][\"message\"][\"content\"]\n",
        "    except requests.RequestException as e:\n",
        "        # В случае возникновения исключения в процессе выполнения запроса, выводим ошибку\n",
        "        print(f\"Произошла ошибка: {str(e)}\")\n",
        "        return None\n",
        "\n",
        "\n",
        "\n"
      ],
      "metadata": {
        "id": "km8eWEvzKOkz"
      },
      "execution_count": null,
      "outputs": []
    },
    {
      "cell_type": "code",
      "source": [
        "user_message = \"Нарисуй фотореалистичное изображение антропоморфного робота с \\\n",
        "ноутбуком в руках\"\n",
        "response_img_tag = send_chat_request(giga_token, user_message)\n",
        "print(response_img_tag)"
      ],
      "metadata": {
        "id": "Hl_eXKXvvMaD"
      },
      "execution_count": null,
      "outputs": []
    },
    {
      "cell_type": "markdown",
      "source": [
        "Получаем само изображение и сохраняем его в файл"
      ],
      "metadata": {
        "id": "-obvskmd8v-w"
      }
    },
    {
      "cell_type": "code",
      "source": [
        "from bs4 import BeautifulSoup\n",
        "\n",
        "\n",
        "\n",
        "# Парсим HTML\n",
        "soup = BeautifulSoup(response_img_tag, 'html.parser')\n",
        "\n",
        "# Извлекаем значение атрибута `src`\n",
        "img_src = soup.img['src']\n",
        "\n",
        "print(img_src)"
      ],
      "metadata": {
        "id": "00rkAbJn8Tua"
      },
      "execution_count": null,
      "outputs": []
    },
    {
      "cell_type": "code",
      "source": [
        "import requests\n",
        "\n",
        "headers = {\n",
        "    'Content-Type': 'application/json',\n",
        "    'Authorization': f'Bearer {giga_token}',\n",
        "}\n",
        "\n",
        "response = requests.get(f'https://gigachat.devices.sberbank.ru/api/v1/files/{img_src}/content', headers=headers, verify=False)"
      ],
      "metadata": {
        "id": "0n4jcaJn9n-7"
      },
      "execution_count": null,
      "outputs": []
    },
    {
      "cell_type": "code",
      "source": [
        "with open('image.jpg', 'wb') as f:\n",
        "    f.write(response.content)"
      ],
      "metadata": {
        "id": "mp4DRNxY902j"
      },
      "execution_count": null,
      "outputs": []
    },
    {
      "cell_type": "code",
      "source": [],
      "metadata": {
        "id": "MHUEMF3O-KQT"
      },
      "execution_count": null,
      "outputs": []
    }
  ]
}